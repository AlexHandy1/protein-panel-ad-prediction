{
 "cells": [
  {
   "cell_type": "code",
   "execution_count": 1,
   "metadata": {},
   "outputs": [],
   "source": [
    "#Add libraries\n",
    "import pandas as pd\n",
    "import numpy as np\n",
    "import matplotlib.pyplot as plt\n",
    "import seaborn as sns\n",
    "%matplotlib inline\n",
    "\n"
   ]
  },
  {
   "cell_type": "code",
   "execution_count": 2,
   "metadata": {},
   "outputs": [
    {
     "data": {
      "text/html": [
       "<div>\n",
       "<style scoped>\n",
       "    .dataframe tbody tr th:only-of-type {\n",
       "        vertical-align: middle;\n",
       "    }\n",
       "\n",
       "    .dataframe tbody tr th {\n",
       "        vertical-align: top;\n",
       "    }\n",
       "\n",
       "    .dataframe thead th {\n",
       "        text-align: right;\n",
       "    }\n",
       "</style>\n",
       "<table border=\"1\" class=\"dataframe\">\n",
       "  <thead>\n",
       "    <tr style=\"text-align: right;\">\n",
       "      <th></th>\n",
       "      <th>Group</th>\n",
       "      <th>Case</th>\n",
       "      <th>Sex</th>\n",
       "      <th>APOB.2797.56.2</th>\n",
       "      <th>APOE.2937.10.2</th>\n",
       "      <th>CRP.4337.49.2</th>\n",
       "    </tr>\n",
       "  </thead>\n",
       "  <tbody>\n",
       "    <tr>\n",
       "      <th>0</th>\n",
       "      <td>A</td>\n",
       "      <td>2</td>\n",
       "      <td>2</td>\n",
       "      <td>-0.318171</td>\n",
       "      <td>-0.133883</td>\n",
       "      <td>-0.266216</td>\n",
       "    </tr>\n",
       "    <tr>\n",
       "      <th>1</th>\n",
       "      <td>A</td>\n",
       "      <td>2</td>\n",
       "      <td>2</td>\n",
       "      <td>0.689710</td>\n",
       "      <td>0.421410</td>\n",
       "      <td>-1.659654</td>\n",
       "    </tr>\n",
       "    <tr>\n",
       "      <th>2</th>\n",
       "      <td>A</td>\n",
       "      <td>2</td>\n",
       "      <td>1</td>\n",
       "      <td>-2.252077</td>\n",
       "      <td>-1.003851</td>\n",
       "      <td>-0.420168</td>\n",
       "    </tr>\n",
       "    <tr>\n",
       "      <th>3</th>\n",
       "      <td>A</td>\n",
       "      <td>2</td>\n",
       "      <td>2</td>\n",
       "      <td>0.689710</td>\n",
       "      <td>-0.133883</td>\n",
       "      <td>-1.053209</td>\n",
       "    </tr>\n",
       "    <tr>\n",
       "      <th>4</th>\n",
       "      <td>A</td>\n",
       "      <td>2</td>\n",
       "      <td>2</td>\n",
       "      <td>-0.318171</td>\n",
       "      <td>0.843965</td>\n",
       "      <td>-0.344878</td>\n",
       "    </tr>\n",
       "  </tbody>\n",
       "</table>\n",
       "</div>"
      ],
      "text/plain": [
       "  Group  Case  Sex  APOB.2797.56.2  APOE.2937.10.2  CRP.4337.49.2\n",
       "0     A     2    2       -0.318171       -0.133883      -0.266216\n",
       "1     A     2    2        0.689710        0.421410      -1.659654\n",
       "2     A     2    1       -2.252077       -1.003851      -0.420168\n",
       "3     A     2    2        0.689710       -0.133883      -1.053209\n",
       "4     A     2    2       -0.318171        0.843965      -0.344878"
      ]
     },
     "execution_count": 2,
     "metadata": {},
     "output_type": "execute_result"
    }
   ],
   "source": [
    "#Load data processed on the HPC\n",
    "\n",
    "prs = pd.read_csv(\"../data/protein_prs_cases.csv\", sep=\"\\t\", index_col=0)\n",
    "\n",
    "prs.head()"
   ]
  },
  {
   "cell_type": "code",
   "execution_count": 3,
   "metadata": {},
   "outputs": [
    {
     "name": "stdout",
     "output_type": "stream",
     "text": [
      "              Case          Sex  APOB.2797.56.2  APOE.2937.10.2  CRP.4337.49.2\n",
      "count  6244.000000  6244.000000    6.244000e+03    6.244000e+03   6.244000e+03\n",
      "mean      1.686579     1.598334   -7.206916e-12   -1.933456e-10   2.802562e-10\n",
      "std       0.463921     0.490274    9.998398e-01    9.998398e-01   9.998398e-01\n",
      "min       1.000000     1.000000   -4.349135e+00   -6.502712e+00  -3.734828e+00\n",
      "25%       1.000000     1.000000   -3.181712e-01   -1.338832e-01  -6.136645e-01\n",
      "50%       2.000000     2.000000   -3.181712e-01    2.886725e-01   1.042077e-01\n",
      "75%       2.000000     2.000000    6.897097e-01    8.173019e-01   7.533913e-01\n",
      "max       2.000000     2.000000    1.748612e+00    1.222361e+00   3.271693e+00\n",
      "Group              object\n",
      "Case                int64\n",
      "Sex                 int64\n",
      "APOB.2797.56.2    float64\n",
      "APOE.2937.10.2    float64\n",
      "CRP.4337.49.2     float64\n",
      "dtype: object\n"
     ]
    },
    {
     "data": {
      "text/plain": [
       "array([[<matplotlib.axes._subplots.AxesSubplot object at 0x7feb77768910>,\n",
       "        <matplotlib.axes._subplots.AxesSubplot object at 0x7feb777b6dc0>],\n",
       "       [<matplotlib.axes._subplots.AxesSubplot object at 0x7feb777f2280>,\n",
       "        <matplotlib.axes._subplots.AxesSubplot object at 0x7feb7781e700>],\n",
       "       [<matplotlib.axes._subplots.AxesSubplot object at 0x7feb7784ab50>,\n",
       "        <matplotlib.axes._subplots.AxesSubplot object at 0x7feb77885040>]],\n",
       "      dtype=object)"
      ]
     },
     "execution_count": 3,
     "metadata": {},
     "output_type": "execute_result"
    },
    {
     "data": {
      "image/png": "[encoded data removed]",
      "text/plain": [
       "<Figure size 864x576 with 6 Axes>"
      ]
     },
     "metadata": {
      "needs_background": "light"
     },
     "output_type": "display_data"
    }
   ],
   "source": [
    "#Review missingness and distribution of variables\n",
    "\n",
    "print(prs.describe())\n",
    "print(prs.dtypes)\n",
    "\n",
    "prs.hist(figsize=(12,8))\n",
    "\n",
    "#Finding: consider whether need to further transform PRS (already normalised to Z scores - units of standard deviation)"
   ]
  },
  {
   "cell_type": "code",
   "execution_count": 4,
   "metadata": {},
   "outputs": [
    {
     "data": {
      "text/html": [
       "<div>\n",
       "<style scoped>\n",
       "    .dataframe tbody tr th:only-of-type {\n",
       "        vertical-align: middle;\n",
       "    }\n",
       "\n",
       "    .dataframe tbody tr th {\n",
       "        vertical-align: top;\n",
       "    }\n",
       "\n",
       "    .dataframe thead th {\n",
       "        text-align: right;\n",
       "    }\n",
       "</style>\n",
       "<table border=\"1\" class=\"dataframe\">\n",
       "  <thead>\n",
       "    <tr style=\"text-align: right;\">\n",
       "      <th></th>\n",
       "      <th>Case</th>\n",
       "      <th>Sex</th>\n",
       "      <th>APOB.2797.56.2</th>\n",
       "      <th>APOE.2937.10.2</th>\n",
       "      <th>CRP.4337.49.2</th>\n",
       "    </tr>\n",
       "    <tr>\n",
       "      <th>Group</th>\n",
       "      <th></th>\n",
       "      <th></th>\n",
       "      <th></th>\n",
       "      <th></th>\n",
       "      <th></th>\n",
       "    </tr>\n",
       "  </thead>\n",
       "  <tbody>\n",
       "    <tr>\n",
       "      <th>A</th>\n",
       "      <td>4492</td>\n",
       "      <td>4492</td>\n",
       "      <td>4492</td>\n",
       "      <td>4492</td>\n",
       "      <td>4492</td>\n",
       "    </tr>\n",
       "    <tr>\n",
       "      <th>B</th>\n",
       "      <td>1007</td>\n",
       "      <td>1007</td>\n",
       "      <td>1007</td>\n",
       "      <td>1007</td>\n",
       "      <td>1007</td>\n",
       "    </tr>\n",
       "    <tr>\n",
       "      <th>C</th>\n",
       "      <td>745</td>\n",
       "      <td>745</td>\n",
       "      <td>745</td>\n",
       "      <td>745</td>\n",
       "      <td>745</td>\n",
       "    </tr>\n",
       "  </tbody>\n",
       "</table>\n",
       "</div>"
      ],
      "text/plain": [
       "       Case   Sex  APOB.2797.56.2  APOE.2937.10.2  CRP.4337.49.2\n",
       "Group                                                           \n",
       "A      4492  4492            4492            4492           4492\n",
       "B      1007  1007            1007            1007           1007\n",
       "C       745   745             745             745            745"
      ]
     },
     "execution_count": 4,
     "metadata": {},
     "output_type": "execute_result"
    }
   ],
   "source": [
    "#Check 3 groups and numbers in each categorical group\n",
    "\n",
    "prs.groupby(\"Group\").count()"
   ]
  },
  {
   "cell_type": "code",
   "execution_count": 3,
   "metadata": {},
   "outputs": [
    {
     "name": "stdout",
     "output_type": "stream",
     "text": [
      "              Case          Sex\n",
      "count  6244.000000  6244.000000\n",
      "mean      0.686579     0.598334\n",
      "std       0.463921     0.490274\n",
      "min       0.000000     0.000000\n",
      "25%       0.000000     0.000000\n",
      "50%       1.000000     1.000000\n",
      "75%       1.000000     1.000000\n",
      "max       1.000000     1.000000\n",
      "Group\n",
      "A    3277\n",
      "B     639\n",
      "C     371\n",
      "Name: Case, dtype: int64\n"
     ]
    }
   ],
   "source": [
    "#Update case and sex from 2/1 and to dummy variables 1/0\n",
    "#Case -> 1 = \"AD\", 0 = \"CTL\"\n",
    "#Sex -> 1 = \"Female\", 0 = \"Male\"\n",
    "\n",
    "if (prs[\"Case\"].max() == 2) | (prs[\"Sex\"].max() == 2):\n",
    "    prs.loc[prs[\"Case\"] == 1, \"Case\"] = 0\n",
    "    prs.loc[prs[\"Case\"] == 2, \"Case\"] = 1\n",
    "\n",
    "    prs.loc[prs[\"Sex\"] == 1, \"Sex\"] = 0\n",
    "    prs.loc[prs[\"Sex\"] == 2, \"Sex\"] = 1\n",
    "else:\n",
    "    print(\"Already updated\")\n",
    "\n",
    "print(prs[[\"Case\", \"Sex\"]].describe())\n",
    "\n",
    "print(prs.groupby(\"Group\")[\"Case\"].sum())"
   ]
  },
  {
   "cell_type": "code",
   "execution_count": 18,
   "metadata": {},
   "outputs": [
    {
     "data": {
      "text/plain": [
       "<matplotlib.axes._subplots.AxesSubplot at 0x7fb1509a4940>"
      ]
     },
     "execution_count": 18,
     "metadata": {},
     "output_type": "execute_result"
    },
    {
     "data": {
      "image/png": "[encoded data removed]",
      "text/plain": [
       "<Figure size 432x288 with 2 Axes>"
      ]
     },
     "metadata": {
      "needs_background": "light"
     },
     "output_type": "display_data"
    }
   ],
   "source": [
    "#Check correlation between PRS scores\n",
    "sns.heatmap(prs.corr(), annot = True, cmap = \"coolwarm\")\n",
    "\n",
    "#Finding: APOB and APOE are highly correlated (> 0.7). In full, multivariate models consider only selecting one."
   ]
  },
  {
   "cell_type": "code",
   "execution_count": 35,
   "metadata": {},
   "outputs": [],
   "source": [
    "#SKlearn modules and helper method to assess model performance\n",
    "\n",
    "from sklearn.model_selection import train_test_split\n",
    "from sklearn.linear_model import LogisticRegression\n",
    "from sklearn.metrics import roc_curve, roc_auc_score, confusion_matrix\n",
    "\n",
    "def assess_model_performance(md, pred, X_test, y_test, model_name, plot=True, univariate=True):\n",
    "    accuracy_sk = md.score(X_test, y_test)\n",
    "    auc = roc_auc_score(y_test, md.predict(X_test))\n",
    "    tn, fp, fn, tp = confusion_matrix(y_test, pred).ravel()\n",
    "    sensitivity = tp / (tp + fn) #-> also recall\n",
    "    specificity = tn / (tn + fp)\n",
    "    precision = tp / (tp + fp)\n",
    "    \n",
    "    if not univariate:\n",
    "        model_name = \"+\".join(list(model_name))\n",
    "    \n",
    "    result = pd.DataFrame({\"model_name\":model_name, \n",
    "                           \"accuracy\":accuracy_sk, \n",
    "                           \"sensitivity\": sensitivity, \n",
    "                           \"specificity\":specificity,\n",
    "                           \"precision\":precision,\n",
    "                           \"auc\":auc}, index=[1])\n",
    "    \n",
    "    if plot:\n",
    "        probas = md.predict_proba(X_test)\n",
    "        plt.plot(roc_curve(y_test, probas[:,1])[0], roc_curve(y_test, probas[:,1])[1], label=model_name)\n",
    "        plt.xlabel(\"FPR\")\n",
    "        plt.ylabel(\"TPR\")\n",
    "        plt.legend(prop={'size':10}, loc='lower right')\n",
    "    \n",
    "    return result"
   ]
  },
  {
   "cell_type": "code",
   "execution_count": 40,
   "metadata": {},
   "outputs": [
    {
     "name": "stdout",
     "output_type": "stream",
     "text": [
      "       model_name  accuracy  sensitivity  specificity  precision       auc\n",
      "0  APOB.2797.56.2  0.684177     0.932710     0.142566   0.703312  0.537638\n",
      "1  APOE.2937.10.2  0.687380     0.984112     0.040733   0.690945  0.512423\n",
      "2   CRP.4337.49.2  0.684817     0.999065     0.000000   0.685256  0.499533\n"
     ]
    },
    {
     "data": {
      "image/png": "[encoded data removed]",
      "text/plain": [
       "<Figure size 432x288 with 1 Axes>"
      ]
     },
     "metadata": {
      "needs_background": "light"
     },
     "output_type": "display_data"
    }
   ],
   "source": [
    "#Build univariate logistic regression models with each PRS single input using sklearn and calculate classification performance metrics\n",
    "\n",
    "PROTEINS = list(prs.iloc[:, 3:].columns)\n",
    "RESULTS = pd.DataFrame()\n",
    "\n",
    "for protein in PROTEINS:\n",
    "    x_train, x_test, y_train, y_test = train_test_split(prs[protein], prs[\"Case\"], test_size=0.25, random_state=0)\n",
    "\n",
    "    logr = LogisticRegression()\n",
    "\n",
    "    X_train = np.array(x_train).reshape(-1,1)\n",
    "    X_test = np.array(x_test).reshape(-1,1)\n",
    "\n",
    "    md = logr.fit(X_train, y_train)\n",
    "\n",
    "    pred = md.predict(X_test)\n",
    "\n",
    "    result = assess_model_performance(md, pred, X_test, y_test, protein)\n",
    "    RESULTS = RESULTS.append(result, ignore_index = True)\n",
    "\n",
    "RESULTS.sort_values(by=\"auc\", ascending=False, inplace=True)\n",
    "print(RESULTS)\n",
    "#NOTE - interesting that logr seems to apply method inplace, so could use md and logr interchangeably unless wanted to create copies\n",
    "\n",
    "#Finding - Individual proteins not robust classifiers as AUC similar to chance. \n",
    "    #Classification weakness appears to be driven by inability to identify true negatives - effectively classifying everything as AD (training data does have high proportion of cases, much higher than a typical population)\n",
    "    "
   ]
  },
  {
   "cell_type": "code",
   "execution_count": 30,
   "metadata": {},
   "outputs": [],
   "source": [
    "#Build univariate logistic regression model using statsmodel (to assess R^2 and p-values)\n",
    "import statsmodels.api as sm\n",
    "\n",
    "for protein in PROTEINS:\n",
    "        x_train, x_test, y_train, y_test = train_test_split(prs[protein], prs[\"Case\"], test_size=0.25, random_state=0)\n",
    "        #manually add intercept\n",
    "        x_train = sm.add_constant(x_train)\n",
    "        \n",
    "        sm_md = sm.Logit(y_train, x_train).fit()\n",
    "        \n",
    "        print(sm_md.summary())\n",
    "        \n",
    "        x_test = sm.add_constant(x_test)\n",
    "        \n",
    "        sm_pred = sm_md.predict(x_test)\n",
    "        \n",
    "        auc = roc_auc_score(y_test, sm_pred)\n",
    "        print(protein,\"AUC\", auc)\n",
    "        \n",
    "        \n"
   ]
  },
  {
   "cell_type": "code",
   "execution_count": 39,
   "metadata": {},
   "outputs": [
    {
     "name": "stdout",
     "output_type": "stream",
     "text": [
      "                                    model_name  accuracy  sensitivity  \\\n",
      "1                 APOB.2797.56.2+CRP.4337.49.2  0.684177     0.932710   \n",
      "0                APOB.2797.56.2+APOE.2937.10.2  0.684177     0.933645   \n",
      "3  APOB.2797.56.2+APOE.2937.10.2+CRP.4337.49.2  0.682896     0.934579   \n",
      "2                 APOE.2937.10.2+CRP.4337.49.2  0.689302     0.983178   \n",
      "\n",
      "   specificity  precision       auc  \n",
      "1     0.142566   0.703312  0.537638  \n",
      "0     0.140530   0.703026  0.537087  \n",
      "3     0.134420   0.701754  0.534499  \n",
      "2     0.048880   0.692561  0.516029  \n"
     ]
    }
   ],
   "source": [
    "#Build multivariate logistic regression models for all possible combinations of PRS\n",
    "\n",
    "#get all combinations of proteins\n",
    "from itertools import combinations\n",
    "\n",
    "RESULTS = pd.DataFrame()\n",
    "\n",
    "for num in range(2, len(PROTEINS)+1):\n",
    "    comb = combinations(PROTEINS, num)\n",
    "    for i in list(comb):\n",
    "        x_train, x_test, y_train, y_test = train_test_split(prs[(list(i))], prs[\"Case\"], test_size=0.25, random_state=0)\n",
    "\n",
    "        logr = LogisticRegression()\n",
    "\n",
    "        X = np.array(x_train).reshape(-num,num)\n",
    "        X_test = np.array(x_test).reshape(-num,num)\n",
    "\n",
    "        md = logr.fit(X, y_train)\n",
    "\n",
    "        pred = md.predict(X_test)\n",
    "\n",
    "        result = assess_model_performance(md, pred, X_test, y_test, i, plot=False, univariate=False)\n",
    "        RESULTS = RESULTS.append(result, ignore_index = True)\n",
    "\n",
    "RESULTS.sort_values(by=\"auc\", ascending=False, inplace=True)\n",
    "print(RESULTS)"
   ]
  },
  {
   "cell_type": "code",
   "execution_count": 24,
   "metadata": {},
   "outputs": [
    {
     "name": "stdout",
     "output_type": "stream",
     "text": [
      "{'C': array([1.e-10, 1.e-09, 1.e-08, 1.e-07, 1.e-06, 1.e-05, 1.e-04, 1.e-03,\n",
      "       1.e-02, 1.e-01, 1.e+00, 1.e+01, 1.e+02, 1.e+03, 1.e+04, 1.e+05,\n",
      "       1.e+06, 1.e+07, 1.e+08, 1.e+09, 1.e+10])}\n",
      "Best C: 1.0\n"
     ]
    }
   ],
   "source": [
    "#MOVE TO TEST 2\n",
    "\n",
    "#Quick test setting up Grid Search with penalised regression (L2)\n",
    "#Tests combinations of weightings in examples, not combinations of input variables\n",
    "from sklearn.model_selection import GridSearchCV\n",
    "\n",
    "# Create regularization penalty space\n",
    "penalty = ['l1', 'l2']\n",
    "\n",
    "# Create regularization hyperparameter space\n",
    "C = np.logspace(-10, 10, 21)\n",
    "\n",
    "# Create hyperparameter options\n",
    "hyperparameters = dict(C=C)\n",
    "print(hyperparameters)\n",
    "\n",
    "#only worked with L2 specified\n",
    "clf = GridSearchCV(estimator=LogisticRegression(penalty=\"l2\"), param_grid=hyperparameters, cv=5, verbose=0)\n",
    "\n",
    "best_model = clf.fit(X, y_train)\n",
    "\n",
    "print('Best C:', best_model.best_estimator_.get_params()['C'])"
   ]
  },
  {
   "cell_type": "code",
   "execution_count": 30,
   "metadata": {},
   "outputs": [
    {
     "data": {
      "text/plain": [
       "{'C': 1.0,\n",
       " 'class_weight': None,\n",
       " 'dual': False,\n",
       " 'fit_intercept': True,\n",
       " 'intercept_scaling': 1,\n",
       " 'l1_ratio': None,\n",
       " 'max_iter': 100,\n",
       " 'multi_class': 'auto',\n",
       " 'n_jobs': None,\n",
       " 'penalty': 'l2',\n",
       " 'random_state': None,\n",
       " 'solver': 'lbfgs',\n",
       " 'tol': 0.0001,\n",
       " 'verbose': 0,\n",
       " 'warm_start': False}"
      ]
     },
     "execution_count": 30,
     "metadata": {},
     "output_type": "execute_result"
    }
   ],
   "source": [
    "best_model.best_estimator_.get_params()"
   ]
  },
  {
   "cell_type": "code",
   "execution_count": 26,
   "metadata": {},
   "outputs": [
    {
     "name": "stdout",
     "output_type": "stream",
     "text": [
      "All PRS L2 Accuracy 0.6828955797565663\n",
      "All PRS L2 Sensitivity 0.9345794392523364\n",
      "All PRS L2 Specificity 0.13441955193482688\n",
      "All PRS L2 Precision 0.7017543859649122\n",
      "All PRS AUC 0.5344994955935817\n"
     ]
    },
    {
     "data": {
      "image/png": "[encoded data removed]",
      "text/plain": [
       "<Figure size 432x288 with 1 Axes>"
      ]
     },
     "metadata": {
      "needs_background": "light"
     },
     "output_type": "display_data"
    }
   ],
   "source": [
    "#MOVE TO TEST 2\n",
    "\n",
    "pred_l2 = best_model.predict(X_test)\n",
    "\n",
    "accuracy_mn = sum(pred_l2 == y_test) / y_test.count()\n",
    "auc = roc_auc_score(y_test, pred_l2)\n",
    "\n",
    "print(\"All PRS L2\", \"Accuracy\", accuracy_mn)\n",
    "tn, fp, fn, tp = confusion_matrix(y_test, pred_l2).ravel()\n",
    "sensitivity = tp / (tp + fn) #-> also recall\n",
    "specificity = tn / (tn + fp)\n",
    "precision = tp / (tp + fp)\n",
    "print(\"All PRS L2\", \"Sensitivity\", sensitivity)\n",
    "print(\"All PRS L2\", \"Specificity\", specificity)\n",
    "print(\"All PRS L2\", \"Precision\", precision)\n",
    "\n",
    "probas_l2 = best_model.predict_proba(X_test)\n",
    "plt.plot(roc_curve(y_test, probas_l2[:,1])[0], roc_curve(y_test, probas_l2[:,1])[1], label=\"All PRS L2\")\n",
    "plt.xlabel(\"FPR\")\n",
    "plt.ylabel(\"TPR\")\n",
    "plt.legend(prop={'size':10}, loc='lower right')\n",
    "print(\"All PRS\", \"AUC\", auc)"
   ]
  },
  {
   "cell_type": "code",
   "execution_count": null,
   "metadata": {},
   "outputs": [],
   "source": []
  }
 ],
 "metadata": {
  "kernelspec": {
   "display_name": "Python 3",
   "language": "python",
   "name": "python3"
  },
  "language_info": {
   "codemirror_mode": {
    "name": "ipython",
    "version": 3
   },
   "file_extension": ".py",
   "mimetype": "text/x-python",
   "name": "python",
   "nbconvert_exporter": "python",
   "pygments_lexer": "ipython3",
   "version": "3.8.3"
  }
 },
 "nbformat": 4,
 "nbformat_minor": 4
}
