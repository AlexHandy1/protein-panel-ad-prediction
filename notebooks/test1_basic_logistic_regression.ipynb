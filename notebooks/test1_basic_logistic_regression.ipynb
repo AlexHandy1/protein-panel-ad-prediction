{
 "cells": [
  {
   "cell_type": "code",
   "execution_count": 1,
   "metadata": {},
   "outputs": [],
   "source": [
    "#Add libraries\n",
    "import pandas as pd\n",
    "import numpy as np\n",
    "import matplotlib.pyplot as plt\n",
    "import seaborn as sns\n",
    "%matplotlib inline\n",
    "\n"
   ]
  },
  {
   "cell_type": "code",
   "execution_count": 2,
   "metadata": {},
   "outputs": [
    {
     "data": {
      "text/html": [
       "<div>\n",
       "<style scoped>\n",
       "    .dataframe tbody tr th:only-of-type {\n",
       "        vertical-align: middle;\n",
       "    }\n",
       "\n",
       "    .dataframe tbody tr th {\n",
       "        vertical-align: top;\n",
       "    }\n",
       "\n",
       "    .dataframe thead th {\n",
       "        text-align: right;\n",
       "    }\n",
       "</style>\n",
       "<table border=\"1\" class=\"dataframe\">\n",
       "  <thead>\n",
       "    <tr style=\"text-align: right;\">\n",
       "      <th></th>\n",
       "      <th>Group</th>\n",
       "      <th>Case</th>\n",
       "      <th>Sex</th>\n",
       "      <th>APOB.2797.56.2</th>\n",
       "      <th>APOE.2937.10.2</th>\n",
       "      <th>CRP.4337.49.2</th>\n",
       "    </tr>\n",
       "  </thead>\n",
       "  <tbody>\n",
       "    <tr>\n",
       "      <th>0</th>\n",
       "      <td>A</td>\n",
       "      <td>2</td>\n",
       "      <td>2</td>\n",
       "      <td>-0.318171</td>\n",
       "      <td>-0.133883</td>\n",
       "      <td>-0.266216</td>\n",
       "    </tr>\n",
       "    <tr>\n",
       "      <th>1</th>\n",
       "      <td>A</td>\n",
       "      <td>2</td>\n",
       "      <td>2</td>\n",
       "      <td>0.689710</td>\n",
       "      <td>0.421410</td>\n",
       "      <td>-1.659654</td>\n",
       "    </tr>\n",
       "    <tr>\n",
       "      <th>2</th>\n",
       "      <td>A</td>\n",
       "      <td>2</td>\n",
       "      <td>1</td>\n",
       "      <td>-2.252077</td>\n",
       "      <td>-1.003851</td>\n",
       "      <td>-0.420168</td>\n",
       "    </tr>\n",
       "    <tr>\n",
       "      <th>3</th>\n",
       "      <td>A</td>\n",
       "      <td>2</td>\n",
       "      <td>2</td>\n",
       "      <td>0.689710</td>\n",
       "      <td>-0.133883</td>\n",
       "      <td>-1.053209</td>\n",
       "    </tr>\n",
       "    <tr>\n",
       "      <th>4</th>\n",
       "      <td>A</td>\n",
       "      <td>2</td>\n",
       "      <td>2</td>\n",
       "      <td>-0.318171</td>\n",
       "      <td>0.843965</td>\n",
       "      <td>-0.344878</td>\n",
       "    </tr>\n",
       "  </tbody>\n",
       "</table>\n",
       "</div>"
      ],
      "text/plain": [
       "  Group  Case  Sex  APOB.2797.56.2  APOE.2937.10.2  CRP.4337.49.2\n",
       "0     A     2    2       -0.318171       -0.133883      -0.266216\n",
       "1     A     2    2        0.689710        0.421410      -1.659654\n",
       "2     A     2    1       -2.252077       -1.003851      -0.420168\n",
       "3     A     2    2        0.689710       -0.133883      -1.053209\n",
       "4     A     2    2       -0.318171        0.843965      -0.344878"
      ]
     },
     "execution_count": 2,
     "metadata": {},
     "output_type": "execute_result"
    }
   ],
   "source": [
    "#Load data processed on the HPC\n",
    "\n",
    "prs = pd.read_csv(\"../data/protein_prs_cases.csv\", sep=\"\\t\", index_col=0)\n",
    "\n",
    "prs.head()"
   ]
  },
  {
   "cell_type": "code",
   "execution_count": 3,
   "metadata": {},
   "outputs": [
    {
     "name": "stdout",
     "output_type": "stream",
     "text": [
      "              Case          Sex  APOB.2797.56.2  APOE.2937.10.2  CRP.4337.49.2\n",
      "count  6244.000000  6244.000000    6.244000e+03    6.244000e+03   6.244000e+03\n",
      "mean      1.686579     1.598334   -7.206916e-12   -1.933456e-10   2.802562e-10\n",
      "std       0.463921     0.490274    9.998398e-01    9.998398e-01   9.998398e-01\n",
      "min       1.000000     1.000000   -4.349135e+00   -6.502712e+00  -3.734828e+00\n",
      "25%       1.000000     1.000000   -3.181712e-01   -1.338832e-01  -6.136645e-01\n",
      "50%       2.000000     2.000000   -3.181712e-01    2.886725e-01   1.042077e-01\n",
      "75%       2.000000     2.000000    6.897097e-01    8.173019e-01   7.533913e-01\n",
      "max       2.000000     2.000000    1.748612e+00    1.222361e+00   3.271693e+00\n",
      "Group              object\n",
      "Case                int64\n",
      "Sex                 int64\n",
      "APOB.2797.56.2    float64\n",
      "APOE.2937.10.2    float64\n",
      "CRP.4337.49.2     float64\n",
      "dtype: object\n"
     ]
    },
    {
     "data": {
      "text/plain": [
       "array([[<matplotlib.axes._subplots.AxesSubplot object at 0x7fb1507688b0>,\n",
       "        <matplotlib.axes._subplots.AxesSubplot object at 0x7fb1507b6d60>],\n",
       "       [<matplotlib.axes._subplots.AxesSubplot object at 0x7fb1507f2220>,\n",
       "        <matplotlib.axes._subplots.AxesSubplot object at 0x7fb15081e6a0>],\n",
       "       [<matplotlib.axes._subplots.AxesSubplot object at 0x7fb15084aaf0>,\n",
       "        <matplotlib.axes._subplots.AxesSubplot object at 0x7fb150877fa0>]],\n",
       "      dtype=object)"
      ]
     },
     "execution_count": 3,
     "metadata": {},
     "output_type": "execute_result"
    },
    {
     "data": {
      "image/png": "[encoded data removed]",
      "text/plain": [
       "<Figure size 864x576 with 6 Axes>"
      ]
     },
     "metadata": {
      "needs_background": "light"
     },
     "output_type": "display_data"
    }
   ],
   "source": [
    "#Review missingness and distribution of variables\n",
    "\n",
    "print(prs.describe())\n",
    "print(prs.dtypes)\n",
    "\n",
    "prs.hist(figsize=(12,8))\n",
    "\n",
    "#Finding: consider whether need to further transform PRS (already normalised to Z scores - units of standard deviation)"
   ]
  },
  {
   "cell_type": "code",
   "execution_count": 27,
   "metadata": {},
   "outputs": [
    {
     "data": {
      "text/html": [
       "<div>\n",
       "<style scoped>\n",
       "    .dataframe tbody tr th:only-of-type {\n",
       "        vertical-align: middle;\n",
       "    }\n",
       "\n",
       "    .dataframe tbody tr th {\n",
       "        vertical-align: top;\n",
       "    }\n",
       "\n",
       "    .dataframe thead th {\n",
       "        text-align: right;\n",
       "    }\n",
       "</style>\n",
       "<table border=\"1\" class=\"dataframe\">\n",
       "  <thead>\n",
       "    <tr style=\"text-align: right;\">\n",
       "      <th></th>\n",
       "      <th>Case</th>\n",
       "      <th>Sex</th>\n",
       "      <th>APOB.2797.56.2</th>\n",
       "      <th>APOE.2937.10.2</th>\n",
       "      <th>CRP.4337.49.2</th>\n",
       "    </tr>\n",
       "    <tr>\n",
       "      <th>Group</th>\n",
       "      <th></th>\n",
       "      <th></th>\n",
       "      <th></th>\n",
       "      <th></th>\n",
       "      <th></th>\n",
       "    </tr>\n",
       "  </thead>\n",
       "  <tbody>\n",
       "    <tr>\n",
       "      <th>A</th>\n",
       "      <td>4492</td>\n",
       "      <td>4492</td>\n",
       "      <td>4492</td>\n",
       "      <td>4492</td>\n",
       "      <td>4492</td>\n",
       "    </tr>\n",
       "    <tr>\n",
       "      <th>B</th>\n",
       "      <td>1007</td>\n",
       "      <td>1007</td>\n",
       "      <td>1007</td>\n",
       "      <td>1007</td>\n",
       "      <td>1007</td>\n",
       "    </tr>\n",
       "    <tr>\n",
       "      <th>C</th>\n",
       "      <td>745</td>\n",
       "      <td>745</td>\n",
       "      <td>745</td>\n",
       "      <td>745</td>\n",
       "      <td>745</td>\n",
       "    </tr>\n",
       "  </tbody>\n",
       "</table>\n",
       "</div>"
      ],
      "text/plain": [
       "       Case   Sex  APOB.2797.56.2  APOE.2937.10.2  CRP.4337.49.2\n",
       "Group                                                           \n",
       "A      4492  4492            4492            4492           4492\n",
       "B      1007  1007            1007            1007           1007\n",
       "C       745   745             745             745            745"
      ]
     },
     "execution_count": 27,
     "metadata": {},
     "output_type": "execute_result"
    }
   ],
   "source": [
    "#Check 3 groups and numbers in each categorical group\n",
    "\n",
    "prs.groupby(\"Group\").count()"
   ]
  },
  {
   "cell_type": "code",
   "execution_count": 17,
   "metadata": {},
   "outputs": [
    {
     "name": "stdout",
     "output_type": "stream",
     "text": [
      "Already updated\n",
      "              Case          Sex\n",
      "count  6244.000000  6244.000000\n",
      "mean      0.686579     0.598334\n",
      "std       0.463921     0.490274\n",
      "min       0.000000     0.000000\n",
      "25%       0.000000     0.000000\n",
      "50%       1.000000     1.000000\n",
      "75%       1.000000     1.000000\n",
      "max       1.000000     1.000000\n"
     ]
    },
    {
     "data": {
      "text/plain": [
       "Group\n",
       "A    3277\n",
       "B     639\n",
       "C     371\n",
       "Name: Case, dtype: int64"
      ]
     },
     "execution_count": 17,
     "metadata": {},
     "output_type": "execute_result"
    }
   ],
   "source": [
    "#Update case and sex from 2/1 and to dummy variables 1/0\n",
    "#Case -> 1 = \"AD\", 0 = \"CTL\"\n",
    "#Sex -> 1 = \"Female\", 0 = \"Male\"\n",
    "\n",
    "if (prs[\"Case\"].max() == 2) | (prs[\"Sex\"].max() == 2):\n",
    "    prs.loc[prs[\"Case\"] == 1, \"Case\"] = 0\n",
    "    prs.loc[prs[\"Case\"] == 2, \"Case\"] = 1\n",
    "\n",
    "    prs.loc[prs[\"Sex\"] == 1, \"Sex\"] = 0\n",
    "    prs.loc[prs[\"Sex\"] == 2, \"Sex\"] = 1\n",
    "else:\n",
    "    print(\"Already updated\")\n",
    "\n",
    "print(prs[[\"Case\", \"Sex\"]].describe())\n",
    "\n",
    "print(prs.groupby(\"Group\")[\"Case\"].sum())"
   ]
  },
  {
   "cell_type": "code",
   "execution_count": 18,
   "metadata": {},
   "outputs": [
    {
     "data": {
      "text/plain": [
       "<matplotlib.axes._subplots.AxesSubplot at 0x7fb1509a4940>"
      ]
     },
     "execution_count": 18,
     "metadata": {},
     "output_type": "execute_result"
    },
    {
     "data": {
      "image/png": "[encoded data removed]",
      "text/plain": [
       "<Figure size 432x288 with 2 Axes>"
      ]
     },
     "metadata": {
      "needs_background": "light"
     },
     "output_type": "display_data"
    }
   ],
   "source": [
    "#Check correlation between PRS scores\n",
    "sns.heatmap(prs.corr(), annot = True, cmap = \"coolwarm\")\n",
    "\n",
    "#Finding: APOB and APOE are highly correlated (> 0.7). In full, multivariate models consider only selecting one."
   ]
  },
  {
   "cell_type": "code",
   "execution_count": 91,
   "metadata": {},
   "outputs": [],
   "source": [
    "#Build univariate logistic regression models with each PRS single input using sklearn and calculate classification performance metrics\n",
    "\n",
    "from sklearn.model_selection import train_test_split\n",
    "from sklearn.linear_model import LogisticRegression\n",
    "from sklearn.metrics import roc_curve, roc_auc_score, confusion_matrix\n",
    "\n",
    "#COULD BE SIGNIFICANTLY REFACTORED IF WANTED TO TURN INTO UTILITY (e.g. library option, univariate vs multivariate)\n",
    "def build_log_model(proteins):\n",
    "    for protein in proteins:\n",
    "        x_train, x_test, y_train, y_test = train_test_split(prs[protein], prs[\"Case\"], test_size=0.25, random_state=0)\n",
    "        \n",
    "        logr = LogisticRegression()\n",
    "\n",
    "        X = np.array(x_train).reshape(-1,1)\n",
    "        X_test = np.array(x_test).reshape(-1,1)\n",
    "\n",
    "        md = logr.fit(X, y_train)\n",
    "\n",
    "        pred = md.predict(X_test)\n",
    "\n",
    "        accuracy_sk = md.score(X_test, y_test)\n",
    "        accuracy_mn = sum(pred == y_test) / y_test.count()\n",
    "        auc = roc_auc_score(y_test, md.predict(X_test))\n",
    "\n",
    "        print(protein, \"Accuracy\", accuracy_sk)\n",
    "        #print(protein, accuracy_mn)\n",
    "        tn, fp, fn, tp = confusion_matrix(y_test, pred).ravel()\n",
    "        sensitivity = tp / (tp + fn) #-> also recall\n",
    "        specificity = tn / (tn + fp)\n",
    "        precision = tp / (tp + fp)\n",
    "        print(protein, \"Sensitivity\", sensitivity)\n",
    "        print(protein, \"Specificity\", specificity)\n",
    "        print(protein, \"Precision\", precision)\n",
    "\n",
    "        probas = md.predict_proba(X_test)\n",
    "        plt.plot(roc_curve(y_test, probas[:,1])[0], roc_curve(y_test, probas[:,1])[1], label=protein)\n",
    "        plt.xlabel(\"FPR\")\n",
    "        plt.ylabel(\"TPR\")\n",
    "        plt.legend(prop={'size':10}, loc='lower right')\n",
    "        print(protein, \"AUC\", auc)\n",
    "    "
   ]
  },
  {
   "cell_type": "code",
   "execution_count": 92,
   "metadata": {},
   "outputs": [
    {
     "name": "stdout",
     "output_type": "stream",
     "text": [
      "APOE.2937.10.2 Accuracy 0.6873798846893018\n",
      "APOE.2937.10.2 Sensitivity 0.9841121495327103\n",
      "APOE.2937.10.2 Specificity 0.04073319755600815\n",
      "APOE.2937.10.2 Precision 0.6909448818897638\n",
      "APOE.2937.10.2 AUC 0.5124226735443592\n",
      "APOB.2797.56.2 Accuracy 0.6841768097373478\n",
      "APOB.2797.56.2 Sensitivity 0.9327102803738317\n",
      "APOB.2797.56.2 Specificity 0.1425661914460285\n",
      "APOB.2797.56.2 Precision 0.7033121916842847\n",
      "APOB.2797.56.2 AUC 0.5376382359099301\n",
      "CRP.4337.49.2 Accuracy 0.6848174247277387\n",
      "CRP.4337.49.2 Sensitivity 0.9990654205607477\n",
      "CRP.4337.49.2 Specificity 0.0\n",
      "CRP.4337.49.2 Precision 0.6852564102564103\n",
      "CRP.4337.49.2 AUC 0.4995327102803738\n"
     ]
    },
    {
     "data": {
      "image/png": "[encoded data removed]",
      "text/plain": [
       "<Figure size 432x288 with 1 Axes>"
      ]
     },
     "metadata": {
      "needs_background": "light"
     },
     "output_type": "display_data"
    }
   ],
   "source": [
    "PROTEINS = [\"APOE.2937.10.2\", \"APOB.2797.56.2\", \"CRP.4337.49.2\"]\n",
    "build_log_model(PROTEINS)\n",
    "\n",
    "#NOTE - interesting that logr seems to apply method inplace, so could use md and logr interchangeably unless wanted to create copies\n",
    "\n",
    "#Finding - Individual proteins not robust classifiers as AUC similar to chance. \n",
    "    #Classification weakness appears to be driven by inability to identify true negatives - effectively classifying everything as AD (training data does have high proportion of cases, much higher than a typical population)\n"
   ]
  },
  {
   "cell_type": "code",
   "execution_count": 108,
   "metadata": {},
   "outputs": [
    {
     "name": "stdout",
     "output_type": "stream",
     "text": [
      "Optimization terminated successfully.\n",
      "         Current function value: 0.612992\n",
      "         Iterations 5\n",
      "                           Logit Regression Results                           \n",
      "==============================================================================\n",
      "Dep. Variable:                   Case   No. Observations:                 4683\n",
      "Model:                          Logit   Df Residuals:                     4681\n",
      "Method:                           MLE   Df Model:                            1\n",
      "Date:                Thu, 06 Aug 2020   Pseudo R-squ.:                 0.01372\n",
      "Time:                        16:08:20   Log-Likelihood:                -2870.6\n",
      "converged:                       True   LL-Null:                       -2910.6\n",
      "Covariance Type:            nonrobust   LLR p-value:                 4.042e-19\n",
      "==================================================================================\n",
      "                     coef    std err          z      P>|z|      [0.025      0.975]\n",
      "----------------------------------------------------------------------------------\n",
      "const              0.7945      0.032     24.946      0.000       0.732       0.857\n",
      "APOE.2937.10.2     0.2742      0.031      8.938      0.000       0.214       0.334\n",
      "==================================================================================\n",
      "APOE.2937.10.2 AUC 0.572920989017264\n",
      "Optimization terminated successfully.\n",
      "         Current function value: 0.592142\n",
      "         Iterations 5\n",
      "                           Logit Regression Results                           \n",
      "==============================================================================\n",
      "Dep. Variable:                   Case   No. Observations:                 4683\n",
      "Model:                          Logit   Df Residuals:                     4681\n",
      "Method:                           MLE   Df Model:                            1\n",
      "Date:                Thu, 06 Aug 2020   Pseudo R-squ.:                 0.04726\n",
      "Time:                        16:08:20   Log-Likelihood:                -2773.0\n",
      "converged:                       True   LL-Null:                       -2910.6\n",
      "Covariance Type:            nonrobust   LLR p-value:                 8.645e-62\n",
      "==================================================================================\n",
      "                     coef    std err          z      P>|z|      [0.025      0.975]\n",
      "----------------------------------------------------------------------------------\n",
      "const              0.8236      0.033     25.118      0.000       0.759       0.888\n",
      "APOB.2797.56.2     0.5342      0.034     15.939      0.000       0.468       0.600\n",
      "==================================================================================\n",
      "APOB.2797.56.2 AUC 0.6355749281458781\n",
      "Optimization terminated successfully.\n",
      "         Current function value: 0.614525\n",
      "         Iterations 5\n",
      "                           Logit Regression Results                           \n",
      "==============================================================================\n",
      "Dep. Variable:                   Case   No. Observations:                 4683\n",
      "Model:                          Logit   Df Residuals:                     4681\n",
      "Method:                           MLE   Df Model:                            1\n",
      "Date:                Thu, 06 Aug 2020   Pseudo R-squ.:                 0.01125\n",
      "Time:                        16:08:20   Log-Likelihood:                -2877.8\n",
      "converged:                       True   LL-Null:                       -2910.6\n",
      "Covariance Type:            nonrobust   LLR p-value:                 5.856e-16\n",
      "=================================================================================\n",
      "                    coef    std err          z      P>|z|      [0.025      0.975]\n",
      "---------------------------------------------------------------------------------\n",
      "const             0.7984      0.032     25.045      0.000       0.736       0.861\n",
      "CRP.4337.49.2    -0.2568      0.032     -8.012      0.000      -0.320      -0.194\n",
      "=================================================================================\n",
      "CRP.4337.49.2 AUC 0.5907750728058321\n"
     ]
    }
   ],
   "source": [
    "#Build univariate logistic regression model using statsmodel (provides R^2 and p-values)\n",
    "import statsmodels.api as sm\n",
    "\n",
    "for protein in PROTEINS:\n",
    "        x_train, x_test, y_train, y_test = train_test_split(prs[protein], prs[\"Case\"], test_size=0.25, random_state=0)\n",
    "        #manually add intercept\n",
    "        x_train = sm.add_constant(x_train)\n",
    "        \n",
    "        sm_md = sm.Logit(y_train, x_train).fit()\n",
    "        \n",
    "        print(sm_md.summary())\n",
    "        \n",
    "        x_test = sm.add_constant(x_test)\n",
    "        \n",
    "        sm_pred = sm_md.predict(x_test)\n",
    "        \n",
    "        auc = roc_auc_score(y_test, sm_pred)\n",
    "        print(protein,\"AUC\", auc)\n",
    "        \n",
    "        \n"
   ]
  },
  {
   "cell_type": "code",
   "execution_count": 117,
   "metadata": {},
   "outputs": [
    {
     "name": "stdout",
     "output_type": "stream",
     "text": [
      "All PRS Accuracy 0.6828955797565663\n",
      "All PRS Sensitivity 0.9345794392523364\n",
      "All PRS Specificity 0.13441955193482688\n",
      "All PRS Precision 0.7017543859649122\n",
      "All PRS AUC 0.5344994955935817\n"
     ]
    },
    {
     "data": {
      "image/png": "[encoded data removed]",
      "text/plain": [
       "<Figure size 432x288 with 1 Axes>"
      ]
     },
     "metadata": {
      "needs_background": "light"
     },
     "output_type": "display_data"
    }
   ],
   "source": [
    "#Build multivariate logistic regression model with all 3 PRS (sklearn)\n",
    "\n",
    "x_train, x_test, y_train, y_test = train_test_split(prs.iloc[:, 3:], prs[\"Case\"], test_size=0.25, random_state=0)\n",
    "\n",
    "logr = LogisticRegression()\n",
    "\n",
    "X = np.array(x_train).reshape(-3,3)\n",
    "X_test = np.array(x_test).reshape(-3,3)\n",
    "\n",
    "md = logr.fit(X, y_train)\n",
    "\n",
    "pred = md.predict(X_test)\n",
    "\n",
    "accuracy_sk = md.score(X_test, y_test)\n",
    "accuracy_mn = sum(pred == y_test) / y_test.count()\n",
    "auc = roc_auc_score(y_test, md.predict(X_test))\n",
    "\n",
    "print(\"All PRS\", \"Accuracy\", accuracy_sk)\n",
    "#print(protein, accuracy_mn)\n",
    "tn, fp, fn, tp = confusion_matrix(y_test, pred).ravel()\n",
    "sensitivity = tp / (tp + fn) #-> also recall\n",
    "specificity = tn / (tn + fp)\n",
    "precision = tp / (tp + fp)\n",
    "print(\"All PRS\", \"Sensitivity\", sensitivity)\n",
    "print(\"All PRS\", \"Specificity\", specificity)\n",
    "print(\"All PRS\", \"Precision\", precision)\n",
    "\n",
    "probas = md.predict_proba(X_test)\n",
    "plt.plot(roc_curve(y_test, probas[:,1])[0], roc_curve(y_test, probas[:,1])[1], label=\"All PRS\")\n",
    "plt.xlabel(\"FPR\")\n",
    "plt.ylabel(\"TPR\")\n",
    "plt.legend(prop={'size':10}, loc='lower right')\n",
    "print(\"All PRS\", \"AUC\", auc)"
   ]
  },
  {
   "cell_type": "code",
   "execution_count": 128,
   "metadata": {},
   "outputs": [
    {
     "name": "stdout",
     "output_type": "stream",
     "text": [
      "Optimization terminated successfully.\n",
      "         Current function value: 0.589579\n",
      "         Iterations 5\n",
      "                           Logit Regression Results                           \n",
      "==============================================================================\n",
      "Dep. Variable:                   Case   No. Observations:                 4683\n",
      "Model:                          Logit   Df Residuals:                     4679\n",
      "Method:                           MLE   Df Model:                            3\n",
      "Date:                Thu, 06 Aug 2020   Pseudo R-squ.:                 0.05139\n",
      "Time:                        16:24:16   Log-Likelihood:                -2761.0\n",
      "converged:                       True   LL-Null:                       -2910.6\n",
      "Covariance Type:            nonrobust   LLR p-value:                 1.536e-64\n",
      "==================================================================================\n",
      "                     coef    std err          z      P>|z|      [0.025      0.975]\n",
      "----------------------------------------------------------------------------------\n",
      "const              0.8368      0.033     25.235      0.000       0.772       0.902\n",
      "APOB.2797.56.2     0.6700      0.053     12.549      0.000       0.565       0.775\n",
      "APOE.2937.10.2    -0.1966      0.047     -4.179      0.000      -0.289      -0.104\n",
      "CRP.4337.49.2     -0.0549      0.036     -1.533      0.125      -0.125       0.015\n",
      "==================================================================================\n"
     ]
    }
   ],
   "source": [
    "#Build multivariate logistic regression model with all 3 PRS (stats model)\n",
    "\n",
    "x_train_sm = sm.add_constant(x_train)\n",
    "        \n",
    "sm_md_all = sm.Logit(y_train, x_train_sm).fit()\n",
    "\n",
    "print(sm_md_all.summary())\n"
   ]
  }
 ],
 "metadata": {
  "kernelspec": {
   "display_name": "Python 3",
   "language": "python",
   "name": "python3"
  },
  "language_info": {
   "codemirror_mode": {
    "name": "ipython",
    "version": 3
   },
   "file_extension": ".py",
   "mimetype": "text/x-python",
   "name": "python",
   "nbconvert_exporter": "python",
   "pygments_lexer": "ipython3",
   "version": "3.8.3"
  }
 },
 "nbformat": 4,
 "nbformat_minor": 4
}
