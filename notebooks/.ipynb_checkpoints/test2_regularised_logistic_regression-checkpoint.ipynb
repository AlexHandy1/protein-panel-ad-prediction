{
 "cells": [
  {
   "cell_type": "code",
   "execution_count": null,
   "metadata": {},
   "outputs": [],
   "source": [
    "#Quick test setting up Grid Search with penalised regression (L2)\n",
    "#Tests combinations of weightings in examples, not combinations of input variables\n",
    "from sklearn.model_selection import GridSearchCV\n",
    "\n",
    "# Create regularization penalty space\n",
    "penalty = ['l1', 'l2']\n",
    "\n",
    "# Create regularization hyperparameter space\n",
    "C = np.logspace(-10, 10, 21)\n",
    "\n",
    "# Create hyperparameter options\n",
    "hyperparameters = dict(C=C)\n",
    "print(hyperparameters)\n",
    "\n",
    "#only worked with L2 specified\n",
    "clf = GridSearchCV(estimator=LogisticRegression(penalty=\"l2\"), param_grid=hyperparameters, cv=5, verbose=0)\n",
    "\n",
    "best_model = clf.fit(X, y_train)\n",
    "\n",
    "print('Best C:', best_model.best_estimator_.get_params()['C'])"
   ]
  },
  {
   "cell_type": "code",
   "execution_count": null,
   "metadata": {},
   "outputs": [],
   "source": [
    "best_model.best_estimator_.get_params()"
   ]
  },
  {
   "cell_type": "code",
   "execution_count": null,
   "metadata": {},
   "outputs": [],
   "source": [
    "#MOVE TO TEST 2\n",
    "\n",
    "pred_l2 = best_model.predict(X_test)\n",
    "\n",
    "accuracy_mn = sum(pred_l2 == y_test) / y_test.count()\n",
    "auc = roc_auc_score(y_test, pred_l2)\n",
    "\n",
    "print(\"All PRS L2\", \"Accuracy\", accuracy_mn)\n",
    "tn, fp, fn, tp = confusion_matrix(y_test, pred_l2).ravel()\n",
    "sensitivity = tp / (tp + fn) #-> also recall\n",
    "specificity = tn / (tn + fp)\n",
    "precision = tp / (tp + fp)\n",
    "print(\"All PRS L2\", \"Sensitivity\", sensitivity)\n",
    "print(\"All PRS L2\", \"Specificity\", specificity)\n",
    "print(\"All PRS L2\", \"Precision\", precision)\n",
    "\n",
    "probas_l2 = best_model.predict_proba(X_test)\n",
    "plt.plot(roc_curve(y_test, probas_l2[:,1])[0], roc_curve(y_test, probas_l2[:,1])[1], label=\"All PRS L2\")\n",
    "plt.xlabel(\"FPR\")\n",
    "plt.ylabel(\"TPR\")\n",
    "plt.legend(prop={'size':10}, loc='lower right')\n",
    "print(\"All PRS\", \"AUC\", auc)"
   ]
  }
 ],
 "metadata": {
  "kernelspec": {
   "display_name": "Python 3",
   "language": "python",
   "name": "python3"
  },
  "language_info": {
   "codemirror_mode": {
    "name": "ipython",
    "version": 3
   },
   "file_extension": ".py",
   "mimetype": "text/x-python",
   "name": "python",
   "nbconvert_exporter": "python",
   "pygments_lexer": "ipython3",
   "version": "3.8.3"
  }
 },
 "nbformat": 4,
 "nbformat_minor": 4
}
