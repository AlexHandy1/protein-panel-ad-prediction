{
 "cells": [
  {
   "cell_type": "code",
   "execution_count": 41,
   "metadata": {},
   "outputs": [],
   "source": [
    "#Add libraries\n",
    "import pandas as pd\n",
    "import numpy as np\n",
    "import matplotlib.pyplot as plt\n",
    "import seaborn as sns\n",
    "%matplotlib inline\n",
    "\n"
   ]
  },
  {
   "cell_type": "code",
   "execution_count": 25,
   "metadata": {},
   "outputs": [
    {
     "data": {
      "text/html": [
       "<div>\n",
       "<style scoped>\n",
       "    .dataframe tbody tr th:only-of-type {\n",
       "        vertical-align: middle;\n",
       "    }\n",
       "\n",
       "    .dataframe tbody tr th {\n",
       "        vertical-align: top;\n",
       "    }\n",
       "\n",
       "    .dataframe thead th {\n",
       "        text-align: right;\n",
       "    }\n",
       "</style>\n",
       "<table border=\"1\" class=\"dataframe\">\n",
       "  <thead>\n",
       "    <tr style=\"text-align: right;\">\n",
       "      <th></th>\n",
       "      <th>Group</th>\n",
       "      <th>Case</th>\n",
       "      <th>Sex</th>\n",
       "      <th>APOB.2797.56.2</th>\n",
       "      <th>APOE.2937.10.2</th>\n",
       "      <th>CRP.4337.49.2</th>\n",
       "    </tr>\n",
       "  </thead>\n",
       "  <tbody>\n",
       "    <tr>\n",
       "      <th>0</th>\n",
       "      <td>A</td>\n",
       "      <td>2</td>\n",
       "      <td>2</td>\n",
       "      <td>-0.318171</td>\n",
       "      <td>-0.133883</td>\n",
       "      <td>-0.266216</td>\n",
       "    </tr>\n",
       "    <tr>\n",
       "      <th>1</th>\n",
       "      <td>A</td>\n",
       "      <td>2</td>\n",
       "      <td>2</td>\n",
       "      <td>0.689710</td>\n",
       "      <td>0.421410</td>\n",
       "      <td>-1.659654</td>\n",
       "    </tr>\n",
       "    <tr>\n",
       "      <th>2</th>\n",
       "      <td>A</td>\n",
       "      <td>2</td>\n",
       "      <td>1</td>\n",
       "      <td>-2.252077</td>\n",
       "      <td>-1.003851</td>\n",
       "      <td>-0.420168</td>\n",
       "    </tr>\n",
       "    <tr>\n",
       "      <th>3</th>\n",
       "      <td>A</td>\n",
       "      <td>2</td>\n",
       "      <td>2</td>\n",
       "      <td>0.689710</td>\n",
       "      <td>-0.133883</td>\n",
       "      <td>-1.053209</td>\n",
       "    </tr>\n",
       "    <tr>\n",
       "      <th>4</th>\n",
       "      <td>A</td>\n",
       "      <td>2</td>\n",
       "      <td>2</td>\n",
       "      <td>-0.318171</td>\n",
       "      <td>0.843965</td>\n",
       "      <td>-0.344878</td>\n",
       "    </tr>\n",
       "  </tbody>\n",
       "</table>\n",
       "</div>"
      ],
      "text/plain": [
       "  Group  Case  Sex  APOB.2797.56.2  APOE.2937.10.2  CRP.4337.49.2\n",
       "0     A     2    2       -0.318171       -0.133883      -0.266216\n",
       "1     A     2    2        0.689710        0.421410      -1.659654\n",
       "2     A     2    1       -2.252077       -1.003851      -0.420168\n",
       "3     A     2    2        0.689710       -0.133883      -1.053209\n",
       "4     A     2    2       -0.318171        0.843965      -0.344878"
      ]
     },
     "execution_count": 25,
     "metadata": {},
     "output_type": "execute_result"
    }
   ],
   "source": [
    "#Load data processed on the HPC\n",
    "\n",
    "prs = pd.read_csv(\"../data/protein_prs_cases.csv\", sep=\"\\t\", index_col=0)\n",
    "\n",
    "prs.head()"
   ]
  },
  {
   "cell_type": "code",
   "execution_count": 26,
   "metadata": {},
   "outputs": [
    {
     "name": "stdout",
     "output_type": "stream",
     "text": [
      "              Case          Sex  APOB.2797.56.2  APOE.2937.10.2  CRP.4337.49.2\n",
      "count  6244.000000  6244.000000    6.244000e+03    6.244000e+03   6.244000e+03\n",
      "mean      1.686579     1.598334   -7.206916e-12   -1.933456e-10   2.802562e-10\n",
      "std       0.463921     0.490274    9.998398e-01    9.998398e-01   9.998398e-01\n",
      "min       1.000000     1.000000   -4.349135e+00   -6.502712e+00  -3.734828e+00\n",
      "25%       1.000000     1.000000   -3.181712e-01   -1.338832e-01  -6.136645e-01\n",
      "50%       2.000000     2.000000   -3.181712e-01    2.886725e-01   1.042077e-01\n",
      "75%       2.000000     2.000000    6.897097e-01    8.173019e-01   7.533913e-01\n",
      "max       2.000000     2.000000    1.748612e+00    1.222361e+00   3.271693e+00\n",
      "Group              object\n",
      "Case                int64\n",
      "Sex                 int64\n",
      "APOB.2797.56.2    float64\n",
      "APOE.2937.10.2    float64\n",
      "CRP.4337.49.2     float64\n",
      "dtype: object\n"
     ]
    },
    {
     "data": {
      "text/plain": [
       "array([[<matplotlib.axes._subplots.AxesSubplot object at 0x7faf8f406dc0>,\n",
       "        <matplotlib.axes._subplots.AxesSubplot object at 0x7faf8f430370>],\n",
       "       [<matplotlib.axes._subplots.AxesSubplot object at 0x7faf900faeb0>,\n",
       "        <matplotlib.axes._subplots.AxesSubplot object at 0x7faf8f6ab670>],\n",
       "       [<matplotlib.axes._subplots.AxesSubplot object at 0x7faf8b4a5df0>,\n",
       "        <matplotlib.axes._subplots.AxesSubplot object at 0x7faf8b4dc610>]],\n",
       "      dtype=object)"
      ]
     },
     "execution_count": 26,
     "metadata": {},
     "output_type": "execute_result"
    },
    {
     "data": {
      "image/png": "[encoded data removed]",
      "text/plain": [
       "<Figure size 864x576 with 6 Axes>"
      ]
     },
     "metadata": {
      "needs_background": "light"
     },
     "output_type": "display_data"
    }
   ],
   "source": [
    "#Review missingness and distribution of variables\n",
    "\n",
    "print(prs.describe())\n",
    "print(prs.dtypes)\n",
    "\n",
    "prs.hist(figsize=(12,8))\n",
    "\n",
    "#Finding: consider whether need to further transform PRS (already normalised to Z scores - units of standard deviation)"
   ]
  },
  {
   "cell_type": "code",
   "execution_count": 27,
   "metadata": {},
   "outputs": [
    {
     "data": {
      "text/html": [
       "<div>\n",
       "<style scoped>\n",
       "    .dataframe tbody tr th:only-of-type {\n",
       "        vertical-align: middle;\n",
       "    }\n",
       "\n",
       "    .dataframe tbody tr th {\n",
       "        vertical-align: top;\n",
       "    }\n",
       "\n",
       "    .dataframe thead th {\n",
       "        text-align: right;\n",
       "    }\n",
       "</style>\n",
       "<table border=\"1\" class=\"dataframe\">\n",
       "  <thead>\n",
       "    <tr style=\"text-align: right;\">\n",
       "      <th></th>\n",
       "      <th>Case</th>\n",
       "      <th>Sex</th>\n",
       "      <th>APOB.2797.56.2</th>\n",
       "      <th>APOE.2937.10.2</th>\n",
       "      <th>CRP.4337.49.2</th>\n",
       "    </tr>\n",
       "    <tr>\n",
       "      <th>Group</th>\n",
       "      <th></th>\n",
       "      <th></th>\n",
       "      <th></th>\n",
       "      <th></th>\n",
       "      <th></th>\n",
       "    </tr>\n",
       "  </thead>\n",
       "  <tbody>\n",
       "    <tr>\n",
       "      <th>A</th>\n",
       "      <td>4492</td>\n",
       "      <td>4492</td>\n",
       "      <td>4492</td>\n",
       "      <td>4492</td>\n",
       "      <td>4492</td>\n",
       "    </tr>\n",
       "    <tr>\n",
       "      <th>B</th>\n",
       "      <td>1007</td>\n",
       "      <td>1007</td>\n",
       "      <td>1007</td>\n",
       "      <td>1007</td>\n",
       "      <td>1007</td>\n",
       "    </tr>\n",
       "    <tr>\n",
       "      <th>C</th>\n",
       "      <td>745</td>\n",
       "      <td>745</td>\n",
       "      <td>745</td>\n",
       "      <td>745</td>\n",
       "      <td>745</td>\n",
       "    </tr>\n",
       "  </tbody>\n",
       "</table>\n",
       "</div>"
      ],
      "text/plain": [
       "       Case   Sex  APOB.2797.56.2  APOE.2937.10.2  CRP.4337.49.2\n",
       "Group                                                           \n",
       "A      4492  4492            4492            4492           4492\n",
       "B      1007  1007            1007            1007           1007\n",
       "C       745   745             745             745            745"
      ]
     },
     "execution_count": 27,
     "metadata": {},
     "output_type": "execute_result"
    }
   ],
   "source": [
    "#Check 3 groups and numbers in each categorical group\n",
    "\n",
    "prs.groupby(\"Group\").count()"
   ]
  },
  {
   "cell_type": "code",
   "execution_count": 39,
   "metadata": {},
   "outputs": [
    {
     "name": "stdout",
     "output_type": "stream",
     "text": [
      "Already updated\n"
     ]
    },
    {
     "data": {
      "text/html": [
       "<div>\n",
       "<style scoped>\n",
       "    .dataframe tbody tr th:only-of-type {\n",
       "        vertical-align: middle;\n",
       "    }\n",
       "\n",
       "    .dataframe tbody tr th {\n",
       "        vertical-align: top;\n",
       "    }\n",
       "\n",
       "    .dataframe thead th {\n",
       "        text-align: right;\n",
       "    }\n",
       "</style>\n",
       "<table border=\"1\" class=\"dataframe\">\n",
       "  <thead>\n",
       "    <tr style=\"text-align: right;\">\n",
       "      <th></th>\n",
       "      <th>Case</th>\n",
       "      <th>Sex</th>\n",
       "    </tr>\n",
       "  </thead>\n",
       "  <tbody>\n",
       "    <tr>\n",
       "      <th>count</th>\n",
       "      <td>6244.000000</td>\n",
       "      <td>6244.000000</td>\n",
       "    </tr>\n",
       "    <tr>\n",
       "      <th>mean</th>\n",
       "      <td>0.686579</td>\n",
       "      <td>0.598334</td>\n",
       "    </tr>\n",
       "    <tr>\n",
       "      <th>std</th>\n",
       "      <td>0.463921</td>\n",
       "      <td>0.490274</td>\n",
       "    </tr>\n",
       "    <tr>\n",
       "      <th>min</th>\n",
       "      <td>0.000000</td>\n",
       "      <td>0.000000</td>\n",
       "    </tr>\n",
       "    <tr>\n",
       "      <th>25%</th>\n",
       "      <td>0.000000</td>\n",
       "      <td>0.000000</td>\n",
       "    </tr>\n",
       "    <tr>\n",
       "      <th>50%</th>\n",
       "      <td>1.000000</td>\n",
       "      <td>1.000000</td>\n",
       "    </tr>\n",
       "    <tr>\n",
       "      <th>75%</th>\n",
       "      <td>1.000000</td>\n",
       "      <td>1.000000</td>\n",
       "    </tr>\n",
       "    <tr>\n",
       "      <th>max</th>\n",
       "      <td>1.000000</td>\n",
       "      <td>1.000000</td>\n",
       "    </tr>\n",
       "  </tbody>\n",
       "</table>\n",
       "</div>"
      ],
      "text/plain": [
       "              Case          Sex\n",
       "count  6244.000000  6244.000000\n",
       "mean      0.686579     0.598334\n",
       "std       0.463921     0.490274\n",
       "min       0.000000     0.000000\n",
       "25%       0.000000     0.000000\n",
       "50%       1.000000     1.000000\n",
       "75%       1.000000     1.000000\n",
       "max       1.000000     1.000000"
      ]
     },
     "execution_count": 39,
     "metadata": {},
     "output_type": "execute_result"
    }
   ],
   "source": [
    "#Update case and sex from 2/1 and to dummy variables 1/0\n",
    "#Case -> 1 = \"AD\", 0 = \"CTL\"\n",
    "#Sex -> 1 = \"Female\", 0 = \"Male\"\n",
    "\n",
    "if (prs[\"Case\"].max == 2) | (prs[\"Sex\"].max == 2):\n",
    "    prs.loc[prs[\"Case\"] == 1, \"Case\"] = 0\n",
    "    prs.loc[prs[\"Case\"] == 2, \"Case\"] = 1\n",
    "\n",
    "    prs.loc[prs[\"Sex\"] == 1, \"Sex\"] = 0\n",
    "    prs.loc[prs[\"Sex\"] == 2, \"Sex\"] = 1\n",
    "else:\n",
    "    print(\"Already updated\")\n",
    "\n",
    "prs[[\"Case\", \"Sex\"]].describe()\n",
    "# print(\"% Cases:\", prs[\"Case\"].sum() / prs[\"Case\"].count())\n",
    "# print(\"% Female:\", prs[\"Sex\"].sum() / prs[\"Sex\"].count())"
   ]
  },
  {
   "cell_type": "code",
   "execution_count": 44,
   "metadata": {},
   "outputs": [
    {
     "data": {
      "text/plain": [
       "<matplotlib.axes._subplots.AxesSubplot at 0x7faf9121bbe0>"
      ]
     },
     "execution_count": 44,
     "metadata": {},
     "output_type": "execute_result"
    },
    {
     "data": {
      "image/png": "[encoded data removed]",
      "text/plain": [
       "<Figure size 432x288 with 2 Axes>"
      ]
     },
     "metadata": {
      "needs_background": "light"
     },
     "output_type": "display_data"
    }
   ],
   "source": [
    "#Check correlation between PRS scores\n",
    "sns.heatmap(prs.corr(), annot = True, cmap = \"coolwarm\")\n",
    "\n",
    "#Finding: APOB and APOE are highly correlated (> 0.7). In full, multivariate models consider only selecting one."
   ]
  },
  {
   "cell_type": "code",
   "execution_count": 106,
   "metadata": {},
   "outputs": [
    {
     "name": "stdout",
     "output_type": "stream",
     "text": [
      "APOE.2937.10.2 Accuracy 0.6873798846893018\n",
      "APOE.2937.10.2 AUC 0.5124226735443592\n",
      "APOB.2797.56.2 Accuracy 0.6841768097373478\n",
      "APOB.2797.56.2 AUC 0.5376382359099301\n",
      "CRP.4337.49.2 Accuracy 0.6848174247277387\n",
      "CRP.4337.49.2 AUC 0.4995327102803738\n"
     ]
    },
    {
     "data": {
      "image/png": "[encoded data removed]",
      "text/plain": [
       "<Figure size 432x288 with 1 Axes>"
      ]
     },
     "metadata": {
      "needs_background": "light"
     },
     "output_type": "display_data"
    }
   ],
   "source": [
    "#Build univariate logistic regression models with each PRS single input using sklearn and calculate accuracy\n",
    "\n",
    "#Split data into test and training\n",
    "\n",
    "from sklearn.model_selection import train_test_split\n",
    "from sklearn.linear_model import LogisticRegression\n",
    "from sklearn.metrics import roc_curve, roc_auc_score\n",
    "\n",
    "PROTEINS = [\"APOE.2937.10.2\", \"APOB.2797.56.2\", \"CRP.4337.49.2\"]\n",
    "\n",
    "for protein in PROTEINS:\n",
    "    x_train, x_test, y_train, y_test = train_test_split(prs[protein], prs[\"Case\"], test_size=0.25, random_state=0)\n",
    "\n",
    "    logr = LogisticRegression()\n",
    "\n",
    "    X = np.array(x_train).reshape(-1,1)\n",
    "    X_test = np.array(x_test).reshape(-1,1)\n",
    "\n",
    "    md = logr.fit(X, y_train)\n",
    "\n",
    "    pred = logr.predict(X_test)\n",
    "\n",
    "    accuracy_sk = logr.score(X_test, y_test)\n",
    "    accuracy_mn = sum(pred == y_test) / y_test.count()\n",
    "    auc = roc_auc_score(y_test, md.predict(X_test))\n",
    "\n",
    "    print(protein, \"Accuracy\", accuracy_sk)\n",
    "    #print(protein, accuracy_mn)\n",
    "    \n",
    "    probas = md.predict_proba(X_test)\n",
    "    plt.plot(roc_curve(y_test, probas[:,1])[0], roc_curve(y_test, probas[:,1])[1])\n",
    "    print(protein, \"AUC\", auc)\n",
    "    \n",
    "    #CLARIFY WHY THESE 2 MEASURES COULD BE SO DIFFERENT, CLARIFY THE EXACT MECHANICS OF THE PREDICT PROBA ROC CURVE\n",
    "\n"
   ]
  },
  {
   "cell_type": "code",
   "execution_count": 92,
   "metadata": {},
   "outputs": [
    {
     "data": {
      "text/plain": [
       "0.6873798846893018"
      ]
     },
     "execution_count": 92,
     "metadata": {},
     "output_type": "execute_result"
    }
   ],
   "source": [
    "#Build logistic regression model using statsmodel (provides summary and p-values) \n",
    "import statsmodels.api as sm"
   ]
  },
  {
   "cell_type": "code",
   "execution_count": null,
   "metadata": {},
   "outputs": [],
   "source": []
  }
 ],
 "metadata": {
  "kernelspec": {
   "display_name": "Python 3",
   "language": "python",
   "name": "python3"
  },
  "language_info": {
   "codemirror_mode": {
    "name": "ipython",
    "version": 3
   },
   "file_extension": ".py",
   "mimetype": "text/x-python",
   "name": "python",
   "nbconvert_exporter": "python",
   "pygments_lexer": "ipython3",
   "version": "3.8.3"
  }
 },
 "nbformat": 4,
 "nbformat_minor": 4
}
